{
 "cells": [
  {
   "cell_type": "code",
   "execution_count": null,
   "id": "532e08ab",
   "metadata": {},
   "outputs": [],
   "source": [
    "class Sample:\n",
    "    def __init__(self, sepal_length: float, sepal_width: float,\n",
    "                 petal_length: float, petal_width: float, species: str):\n",
    "        self.sepal_length = sepal_length\n",
    "        self.sepal_width = sepal_width\n",
    "        self.petal_length = petal_length\n",
    "        self.petal_width = petal_width\n",
    "        self._species = species  \n",
    "    @property\n",
    "    def species(self):\n",
    "        return self._species\n",
    "    @species.setter\n",
    "    def species(self, new_species: str):\n",
    "        if not isinstance(new_species, str):\n",
    "            raise ValueError(\"La especie debe ser una cadena de texto.\")\n",
    "        self._species = new_species\n",
    "    def __repr__(self):\n",
    "        return (f\"Sample(sepal_length={self.sepal_length}, sepal_width={self.sepal_width}, \"\n",
    "                f\"petal_length={self.petal_length}, petal_width={self.petal_width}, \"\n",
    "                f\"species='{self.species}')\")\n",
    "    def describe(self):\n",
    "        return (f\"Esta flor pertenece a la especie '{self.species}' y tiene \"\n",
    "                f\"sépalo de {self.sepal_length}x{self.sepal_width} cm \"\n",
    "                f\"y pétalo de {self.petal_length}x{self.petal_width} cm.\")\n",
    "    def matches(self, species: str):\n",
    "        return self._species.lower() == species.lower()\n"
   ]
  },
  {
   "cell_type": "markdown",
   "id": "d4727e82",
   "metadata": {},
   "source": [
    "Actividad autonoma\n",
    "¿Qué significa encapsular un atributo?\n",
    "Significa que esta dentro de una class ha manera de protegerla \n",
    "¿Por qué es importante encapsular species en lugar de dejarlo público?\n",
    "Para poder controlar las modificaciones que se realizan con el fin de que\n",
    "no se hagan cabios que afeccten como el tipo de dato \n",
    "¿Qué ventajas ofrece el uso de @property sobre acceder directamente al atributo?\n",
    "Acceso como atributo y validación\n",
    "\n"
   ]
  }
 ],
 "metadata": {
  "kernelspec": {
   "display_name": "base",
   "language": "python",
   "name": "python3"
  },
  "language_info": {
   "codemirror_mode": {
    "name": "ipython",
    "version": 3
   },
   "file_extension": ".py",
   "mimetype": "text/x-python",
   "name": "python",
   "nbconvert_exporter": "python",
   "pygments_lexer": "ipython3",
   "version": "3.13.5"
  }
 },
 "nbformat": 4,
 "nbformat_minor": 5
}
